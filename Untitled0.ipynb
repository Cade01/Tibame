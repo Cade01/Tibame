{
  "nbformat": 4,
  "nbformat_minor": 0,
  "metadata": {
    "colab": {
      "provenance": [],
      "authorship_tag": "ABX9TyPtFqqgOY/5fAO+T7t2WBWT",
      "include_colab_link": true
    },
    "kernelspec": {
      "name": "python3",
      "display_name": "Python 3"
    },
    "language_info": {
      "name": "python"
    }
  },
  "cells": [
    {
      "cell_type": "markdown",
      "metadata": {
        "id": "view-in-github",
        "colab_type": "text"
      },
      "source": [
        "<a href=\"https://colab.research.google.com/github/Cade01/Tibame/blob/main/Untitled0.ipynb\" target=\"_parent\"><img src=\"https://colab.research.google.com/assets/colab-badge.svg\" alt=\"Open In Colab\"/></a>"
      ]
    },
    {
      "cell_type": "code",
      "execution_count": 3,
      "metadata": {
        "colab": {
          "base_uri": "https://localhost:8080/"
        },
        "id": "AnNxbls4a3og",
        "outputId": "08ffd8c7-7a92-4733-dd88-0a150f1e14d2"
      },
      "outputs": [
        {
          "output_type": "stream",
          "name": "stdout",
          "text": [
            "Enter your weight in kg: 60\n",
            "Enter your height in cm: 170\n",
            "your weight is 60kg\n",
            "your height is 170cm\n",
            "your BMI: 20.76\n",
            "正常\n"
          ]
        }
      ],
      "source": [
        "#BMI程式 可自由輸入身高體重求出BMI 並提供回饋\n",
        "#BMI = weight(kg) / height(m) ^ 2\n",
        "weight = int(input(\"Enter your weight in kg: \"))\n",
        "height = int(input(\"Enter your height in cm: \"))\n",
        "BMI = weight / (height / 100) ** 2\n",
        "print(f\"{'your weight is '}{weight}{'kg'}\")\n",
        "print(f\"{'your height is '}{height}{'cm'}\")\n",
        "print(f\"{'your BMI: '}{BMI:.2f}\")\n",
        "if BMI > 25:\n",
        "  print('太胖了')\n",
        "elif BMI < 15:\n",
        "  print('太瘦了')\n",
        "else:\n",
        "  print('正常')\n"
      ]
    }
  ]
}